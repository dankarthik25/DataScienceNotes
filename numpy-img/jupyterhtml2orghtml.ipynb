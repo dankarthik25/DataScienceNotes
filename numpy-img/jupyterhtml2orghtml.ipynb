{
 "cells": [
  {
   "cell_type": "code",
   "execution_count": 1,
   "id": "f2305da8-e007-44b6-aff1-6e6b5118e51c",
   "metadata": {},
   "outputs": [],
   "source": [
    "# conda activate org2html\n",
    "import pandoc\n",
    "from pandoc.types import *\n",
    "from bs4 import BeautifulSoup \n",
    "import subprocess\n",
    "import os \n",
    "shell_cmd = \"pandoc -s temp.html -o temp.org\"\n",
    "html_attr = \"\"\"#+SETUPFILE:css/emacs-org.setup\n",
    "[  [[./Index.html][Home]] ]  $&ensp;$  | $&ensp;$ $&ensp;$ [text] $&ensp;$  $&ensp;$ | $&ensp;$ $&ensp;$ [link] $&ensp;$ $&ensp;$ | $&ensp;$ $&ensp;$ [title] $&ensp;$ $&ensp;$ | $&ensp;$ $&ensp;$ [icon] $&ensp;$ $&ensp;$ | $&ensp;$ $&ensp;$ [target]  $&ensp;$ $&ensp;$ | $&ensp;$ $&ensp;$ [expanded]  $&ensp;$ $&ensp;$\n",
    "-----\"\"\""
   ]
  },
  {
   "cell_type": "code",
   "execution_count": 2,
   "id": "ceafaacf-9794-4f72-a2bc-207b2752a3cc",
   "metadata": {},
   "outputs": [],
   "source": [
    "def tag_input(text_input,start_tag,end_tag):\n",
    "    return f\"{start_tag}\\n{text_input}\\n{end_tag}\"\n",
    "# output_doc =tag_input(\"asdfas\\nasfdasd\\nadfasd\",'#+BEGIN_SRC python',\"#+END_SRC\")    \n",
    "# myprint(output_doc)\n",
    "def myprint(data,output_file_name,show=True):\n",
    "    # print(output_file_name)\n",
    "    file1 = open(output_file_name, \"a\")  # append mode\n",
    "    file1.write(data)\n",
    "    file1.close()\n",
    "    if not show:\n",
    "        pass\n",
    "        # print(data)\n",
    "    # open file in write mode and append the with each line\n",
    "\n",
    "def write_html2org(jupyter_html_path,output_file_name,show=False):\n",
    "    if os.path.isfile(output_file_name):\n",
    "        os.remove(output_file_name)    \n",
    "    with open(jupyter_html_path) as file:\n",
    "        html =file.read()\n",
    "    soup = BeautifulSoup(html) # If this line causes an error, run 'pip install html5lib' or install html5lib \n",
    "    all_find = soup.find_all('div')\n",
    "    \n",
    "    # result\n",
    "    for i in all_find:\n",
    "        # print(i.attrs)\n",
    "        if len(i.attrs) >0 :\n",
    "            if (i.attrs['class'] == ['jp-Cell', 'jp-MarkdownCell', 'jp-Notebook-cell']):\n",
    "                result = i.find('div',attrs={'class':\"jp-RenderedHTMLCommon jp-RenderedMarkdown jp-MarkdownOutput\"})\n",
    "                html_doc = pandoc.read(result)\n",
    "                html_doc = pandoc.write(html_doc, format=\"html\")\n",
    "                with open('temp.html','w') as f: f.write(html_doc.replace(\"¶\",\"\"))\n",
    "                res = subprocess.run (shell_cmd,shell=True, capture_output=True)  \n",
    "                if res.returncode:\n",
    "                    print('Eroro is subprocess:',res.returncode)\n",
    "                    break\n",
    "                with open ('temp.org','r') as g: myprint(g.read(),output_file_name,show=False)\n",
    "                \n",
    "            if 'jp-CodeCell' in i.attrs['class']:\n",
    "                result = i.find('div',attrs={'class':\"highlight hl-ipython3\"})\n",
    "                \n",
    "                source_code = result.get_text() \n",
    "                if source_code.strip():\n",
    "                    org_src =tag_input(source_code.strip(),'#+BEGIN_SRC python',\"#+END_SRC\\n\")    \n",
    "                    myprint(org_src,output_file_name,show)\n",
    "        \n",
    "                result_block =i.find('div',attrs={'class':'jp-OutputArea-child'})\n",
    "                if result_block:       \n",
    "                    org_block = tag_input(result_block,'#+BEGIN_EXPORT html',\"#+END_EXPORT\\n\")\n",
    "                    myprint(org_block,output_file_name,show)\n",
    "    # return lines\n",
    "\n",
    "def clean_org_lines(lines):\n",
    "    index =0\n",
    "    while index < len(lines):\n",
    "        # print(index, len(lines))    \n",
    "        line = lines[index]\n",
    "        if (':PROPERTIES:' in lines[index]) or ( ':CUSTOM_ID:'in lines[index]) or (':END:' in lines[index]):\n",
    "            # print(index,line,lines[index+1],lines[index+2],)\n",
    "            del lines[index]\n",
    "            index = index # no update\n",
    "        elif '[[' in line and '[]]' in line:\n",
    "            before_link,after_link = line.split(\"[[\")\n",
    "            new_line = before_link + after_link.split(\"[]]\")[1]\n",
    "            lines[index]= new_line\n",
    "            # print(\"Old Line Index: \",index, line.strip())\n",
    "            # print(\"New Line Index: \",index, new_line.strip())\n",
    "            index = index +1\n",
    "        else:\n",
    "            index = index+1\n",
    "    return lines\n"
   ]
  },
  {
   "cell_type": "markdown",
   "id": "3e7c0966-2db1-41a8-a2ae-8c07573a4ee0",
   "metadata": {},
   "source": [
    "# Convert single \" .html \"  to \" .org \""
   ]
  },
  {
   "cell_type": "code",
   "execution_count": 3,
   "id": "5046fd2e-a847-4d37-b12d-aa4fcfaa4ae4",
   "metadata": {},
   "outputs": [],
   "source": [
    "# file_name = # input \n",
    "# jupyter_html_path = os.path.join(\"/home/karthik/mynotes/Python-Modules/pandas_html\",file_name)\n",
    "\n",
    "\n",
    "jupyter_html_path =\"/home/karthik/mynotes/Python-Modules/Numpy_Complete.html\"\n"
   ]
  },
  {
   "cell_type": "code",
   "execution_count": 5,
   "id": "6f60cbea-a35d-4f31-a8d6-0806faf7db68",
   "metadata": {},
   "outputs": [
    {
     "name": "stdout",
     "output_type": "stream",
     "text": [
      "Numpy_Complete_org.org\n"
     ]
    }
   ],
   "source": [
    "output_file_name = os.path.basename(jupyter_html_path)\n",
    "output_file_name = os.path.splitext(output_file_name)[0] + '_org.org'\n",
    "print(output_file_name)\n",
    "\n",
    "write_html2org(jupyter_html_path,output_file_name,False)\n",
    "\n",
    "with open(output_file_name) as file:\n",
    "    lines =file.readlines()\n",
    "lines = clean_org_lines(lines)    \n",
    "\n",
    "header = f\"\"\"#+TITLE: {output_file_name.replace(\"_org.org\",'')}\\n{html_attr}\"\"\" \n",
    "lines.insert(0,header)\n",
    "\n",
    "with open(output_file_name,'w') as wf:\n",
    "    wf.writelines(lines)"
   ]
  },
  {
   "cell_type": "markdown",
   "id": "2cea2d68-ea1d-45c5-b677-0339fab91e09",
   "metadata": {},
   "source": [
    "# Convert all \" *.html \" in given dir to \" *.org \" files and one concatinated file "
   ]
  },
  {
   "cell_type": "code",
   "execution_count": null,
   "id": "f18eb086-6717-4b94-9022-0bd39bb4fdf4",
   "metadata": {},
   "outputs": [],
   "source": []
  },
  {
   "cell_type": "code",
   "execution_count": null,
   "id": "7f0c32bc-1e05-4ac4-9969-33b9d80e8c21",
   "metadata": {},
   "outputs": [],
   "source": [
    "file_list = [\"01_01_io.html\", \"01_02_display.html\", \"02_01_display.html\", \"02_02_view.html\", \"04_dfinfo.html\", \"05_DfSubset.html\", \"06_plot.html\", \"07_Categorical.html\", \"08_Group.html\", \"09_Delete.html\", \"10_01_Merge.html\", \"10_02_Sort.html\", \"11_01_Iterator.html\", \"11_02_Append(Concat).html\", \"11_03_Pivot.html\", \"12_pandas_stack.html\", \"12_TimeSeries.html\", \"13_crosstab.html\", \"13_Miscellaneous.html\", \"14_HandelingData-DataCleaning.html\", \"15_melt.html\", \"nump_nditer.html\", \"pandas_concat.html\"]\n"
   ]
  },
  {
   "cell_type": "code",
   "execution_count": 9,
   "id": "060fa8df-61b4-4cc1-94fc-3c3f634e55ba",
   "metadata": {},
   "outputs": [
    {
     "name": "stdout",
     "output_type": "stream",
     "text": [
      "01_01_io_org.org\n",
      "01_02_display_org.org\n",
      "02_01_display_org.org\n",
      "02_02_view_org.org\n",
      "04_dfinfo_org.org\n",
      "05_DfSubset_org.org\n",
      "06_plot_org.org\n",
      "07_Categorical_org.org\n",
      "08_Group_org.org\n",
      "09_Delete_org.org\n",
      "10_01_Merge_org.org\n",
      "10_02_Sort_org.org\n",
      "11_01_Iterator_org.org\n",
      "11_02_Append(Concat)_org.org\n",
      "11_03_Pivot_org.org\n",
      "12_pandas_stack_org.org\n",
      "12_TimeSeries_org.org\n",
      "13_crosstab_org.org\n",
      "13_Miscellaneous_org.org\n",
      "14_HandelingData-DataCleaning_org.org\n",
      "15_melt_org.org\n",
      "nump_nditer_org.org\n",
      "pandas_concat_org.org\n"
     ]
    }
   ],
   "source": [
    "# # # # # # # # # # # # # # # # # # # # \n",
    "#   Part-I : convert all html files  to org files \n",
    "# # # # # # # # # # # # # # # # # # # # \n",
    "for file_name in file_list:\n",
    "    jupyter_html_path = os.path.join(\"/home/karthik/mynotes/Python-Modules/pandas_html\",file_name)\n",
    "    # \"/home/karthik/mynotes/Python-Modules/Numpy.html\"\n",
    "    output_file_name = os.path.basename(jupyter_html_path)\n",
    "    output_file_name = os.path.splitext(output_file_name)[0] + '_org.org'\n",
    "    print(output_file_name)\n",
    "    \n",
    "    write_html2org(jupyter_html_path,output_file_name,False)\n",
    "    \n",
    "    with open(output_file_name) as file:\n",
    "        lines =file.readlines()\n",
    "    lines = clean_org_lines(lines)    \n",
    "    with open(output_file_name,'w') as wf:\n",
    "        wf.writelines(lines)\n",
    "# # # # # # # # # # # # # # # # # # # # \n",
    "#   Part-II : Convert all html files to org files then From the generatd org files \n",
    "#             Concatinate all org files into single org file with header   \n",
    "# # # # # # # # # # # # # # # # # # # # \n",
    "\n",
    "complete_file = 'pandas_full.org'\n",
    "complete_lines =[]\n",
    "for file_name in file_list:\n",
    "    # file_name = file_list[0]\n",
    "    jupyter_html_path = os.path.join(\"/home/karthik/mynotes/Python-Modules/pandas_html\",file_name)\n",
    "    # \"/home/karthik/mynotes/Python-Modules/Numpy.html\"\n",
    "    output_file_name = os.path.basename(jupyter_html_path)\n",
    "    output_file_name = os.path.splitext(output_file_name)[0] + '_org.org'\n",
    "    print(output_file_name)\n",
    "    complete_lines.append(f'* File: {output_file_name}\\n')\n",
    "    with open(output_file_name,'r') as rd:\n",
    "        lines = rd.readlines()\n",
    "    complete_lines.extend(lines)\n",
    "    \n",
    "header = f\"\"\"#+TITLE: {complete_file.replace(\"_org.org\",'')}\\n{html_attr}\"\"\" \n",
    "complete_lines.insert(0,header)\n",
    "\n",
    "with open(complete_file,'w') as wf:\n",
    "    wf.writelines(complete_lines)    "
   ]
  },
  {
   "cell_type": "code",
   "execution_count": 27,
   "id": "3efba84b-5088-4612-99ab-76dd2e356682",
   "metadata": {},
   "outputs": [
    {
     "name": "stdout",
     "output_type": "stream",
     "text": [
      "01_01_io_org.org\n",
      "01_02_display_org.org\n",
      "02_01_display_org.org\n",
      "02_02_view_org.org\n",
      "04_dfinfo_org.org\n",
      "05_DfSubset_org.org\n",
      "06_plot_org.org\n",
      "07_Categorical_org.org\n",
      "08_Group_org.org\n",
      "09_Delete_org.org\n",
      "10_01_Merge_org.org\n",
      "10_02_Sort_org.org\n",
      "11_01_Iterator_org.org\n",
      "11_02_Append(Concat)_org.org\n",
      "11_03_Pivot_org.org\n",
      "12_pandas_stack_org.org\n",
      "12_TimeSeries_org.org\n",
      "13_crosstab_org.org\n",
      "13_Miscellaneous_org.org\n",
      "14_HandelingData-DataCleaning_org.org\n",
      "15_melt_org.org\n",
      "nump_nditer_org.org\n",
      "pandas_concat_org.org\n"
     ]
    }
   ],
   "source": []
  },
  {
   "cell_type": "code",
   "execution_count": 1,
   "id": "363d94bb-97a2-4d07-b951-94ffade4bf38",
   "metadata": {},
   "outputs": [],
   "source": [
    "# complete_lines"
   ]
  },
  {
   "cell_type": "code",
   "execution_count": 29,
   "id": "928279cc-52de-4417-97fe-fa810319347f",
   "metadata": {},
   "outputs": [],
   "source": []
  },
  {
   "cell_type": "code",
   "execution_count": null,
   "id": "f9cd73bb-55bb-489f-a450-73b400a94d68",
   "metadata": {},
   "outputs": [],
   "source": []
  }
 ],
 "metadata": {
  "kernelspec": {
   "display_name": "Python 3 (ipykernel)",
   "language": "python",
   "name": "python3"
  },
  "language_info": {
   "codemirror_mode": {
    "name": "ipython",
    "version": 3
   },
   "file_extension": ".py",
   "mimetype": "text/x-python",
   "name": "python",
   "nbconvert_exporter": "python",
   "pygments_lexer": "ipython3",
   "version": "3.8.10"
  }
 },
 "nbformat": 4,
 "nbformat_minor": 5
}
