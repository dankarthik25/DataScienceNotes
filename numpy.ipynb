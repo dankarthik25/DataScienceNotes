{
 "cells": [
  {
   "cell_type": "code",
   "execution_count": 4,
   "id": "2bf05343-67c3-4e2b-bb5f-06ddc558ef16",
   "metadata": {},
   "outputs": [],
   "source": [
    "import numpy as np"
   ]
  },
  {
   "cell_type": "markdown",
   "id": "632444eb",
   "metadata": {},
   "source": [
    "# Numpy faster than List"
   ]
  },
  {
   "cell_type": "code",
   "execution_count": 119,
   "id": "5ebcad05",
   "metadata": {},
   "outputs": [
    {
     "name": "stdout",
     "output_type": "stream",
     "text": [
      "python list took:  97.0754623413086\n",
      "numpy took:  11.291265487670898\n"
     ]
    }
   ],
   "source": [
    "import numpy as np\n",
    "import time\n",
    "import sys\n",
    "SIZE = 1000000\n",
    "l1 = range(SIZE)\n",
    "l2 = range(SIZE)\n",
    "a1=np.arange(SIZE)\n",
    "a2=np.arange(SIZE)\n",
    "\n",
    "# python list\n",
    "start = time.time()\n",
    "result = [(x+y) for x,y in zip(l1,l2)]\n",
    "print(\"python list took: \",(time.time()-start)*1000) # 226.3377 msec\n",
    "# numpy array\n",
    "start= time.time()\n",
    "result = a1 + a2\n",
    "print(\"numpy took: \", (time.time()-start)*1000)  # 11.5299 msec"
   ]
  },
  {
   "cell_type": "markdown",
   "id": "9eb06c24-a22a-49b4-949f-513d115f779e",
   "metadata": {
    "tags": []
   },
   "source": [
    "# Create "
   ]
  },
  {
   "cell_type": "code",
   "execution_count": 6,
   "id": "93f46819-4e4b-4de8-96ab-f753190e7276",
   "metadata": {},
   "outputs": [],
   "source": [
    "a = np.array([[1,2,3],[4,5,6],[7,8,9]], dtype='int8')\n",
    "# >>> array([[1, 2, 3],\n",
    "#            [4, 5, 6],\n",
    "#            [7, 8, 9]], dtype=int8)"
   ]
  },
  {
   "cell_type": "code",
   "execution_count": null,
   "id": "f7d53f4f",
   "metadata": {},
   "outputs": [],
   "source": []
  },
  {
   "cell_type": "code",
   "execution_count": 14,
   "id": "7ad4dc2e-1221-4c56-b765-f1602ea6d98e",
   "metadata": {},
   "outputs": [
    {
     "data": {
      "text/plain": [
       "array([[ 0,  1,  2,  3,  4],\n",
       "       [ 5,  6,  7,  8,  9],\n",
       "       [10, 11, 12, 13, 14]])"
      ]
     },
     "execution_count": 14,
     "metadata": {},
     "output_type": "execute_result"
    }
   ],
   "source": [
    "np.arange(1,15) # >>> array([ 1,  2,  3,  4,  5,  6,  7,  8,  9, 10, 11, 12, 13, 14])\n",
    "\n",
    "np.ones((2,3))    # >>> array([[1., 1., 1.],\n",
    "                  #           [1., 1., 1.]])\n",
    "    \n",
    "np.zeros((2,3))   # >>> array([[0., 0., 0.],\n",
    "                  #           [0., 0., 0.]])\n",
    "\n",
    "np.identity(3)    # >>> array([[1., 0., 0.],\n",
    "                  #            [0., 1., 0.],\n",
    "                  #            [0., 0., 1.]])\n",
    "        \n",
    "np.linspace(0,5,num=10)  # >>>    array([0.        , 0.55555556, 1.11111111, 1.66666667, 2.22222222,\n",
    "                                     #   2.77777778, 3.33333333, 3.88888889, 4.44444444, 5.        ])\n",
    "\n",
    "np.full((2,2), 99)   #  >>>    array([[99., 99.],\n",
    "                               # [99., 99.]], dtype=float32)\n",
    "\n",
    "# Any other number (full_like)\n",
    "np.full_like(a, 4)  \n",
    "# >>> array([[4, 4, 4],\n",
    "#            [4, 4, 4],\n",
    "#            [4, 4, 4]], dtype=int8)\n",
    "\n",
    "np.arange(0,15).reshape(3,5) # >>> array([[ 0,  1,  2,  3,  4],\n",
    "                          #               [ 5,  6,  7,  8,  9],\n",
    "                          #             [10, 11, 12, 13, 14]])\n"
   ]
  },
  {
   "cell_type": "code",
   "execution_count": 131,
   "id": "c3ea0708",
   "metadata": {},
   "outputs": [
    {
     "name": "stdout",
     "output_type": "stream",
     "text": [
      "[[1 2 3]\n",
      " [1 2 3]\n",
      " [1 2 3]]\n"
     ]
    }
   ],
   "source": [
    "# Repeat an array\n",
    "arr = np.array([[1,2,3]])\n",
    "r1 = np.repeat(arr,3, axis=0)\n",
    "print(r1)"
   ]
  },
  {
   "cell_type": "code",
   "execution_count": 15,
   "id": "6e05a28e-d0f2-4936-a9fb-bde9f4901b61",
   "metadata": {},
   "outputs": [
    {
     "data": {
      "text/plain": [
       "array([[ 0,  1,  2,  3,  4],\n",
       "       [ 5,  6,  7,  8,  9],\n",
       "       [10, 11, 12, 13, 14]])"
      ]
     },
     "execution_count": 15,
     "metadata": {},
     "output_type": "execute_result"
    }
   ],
   "source": [
    "a=np.arange(0,15) # >>> array([ 0,  1,  2,  3,  4,  5,  6,  7,  8,  9, 10, 11, 12, 13, 14])\n",
    "b =a.reshape(3,5) # >>> array([[ 0,  1,  2,  3,  4],\n",
    "                  #            [ 5,  6,  7,  8,  9],\n",
    "                  #            [10, 11, 12, 13, 14]])\n",
    "        \n",
    "# resize() function is used to create a new array of different sizes and dimensions.\n",
    "# resize() can create an array of larger size than the original array.\n",
    "# To convert the original array into a bigger array, resize() will add more elements (than available in the original array) by copying the existing elements (repeated as many times as required) to fill the desired larger size.                              \n"
   ]
  },
  {
   "cell_type": "markdown",
   "id": "f1f0640b-8342-452d-8352-c001bebacaac",
   "metadata": {},
   "source": [
    "## Datatype: \n",
    "Numpy support different DataTypes like `int8`, `uint8`, `int16`, `uint16`, `int32`, `int64`, `float32`, `float64`, `np.uint8`,.....etc \n",
    "for more details: https://numpy.org/doc/stable/user/basics.types.html\n",
    "\n",
    "\n",
    "```python\n",
    "a = np.array([[1,2,3],[4,5,6],[7,8,9]], dtype='int32')\n",
    "# Change data Type\n",
    "a.astype(int) # change to type int\n",
    "```"
   ]
  },
  {
   "cell_type": "markdown",
   "id": "9cc024b8-ec83-435b-b4b9-ee52109f3740",
   "metadata": {},
   "source": [
    "# Info"
   ]
  },
  {
   "cell_type": "code",
   "execution_count": 50,
   "id": "5c4b6cc0-fae1-4c74-9085-d3845804043f",
   "metadata": {},
   "outputs": [],
   "source": [
    "a = np.array([[1,2,3],[4,5,6],[7,8,9]], dtype='int8') \n",
    "\n",
    "# array([[1, 2, 3],\n",
    "#        [4, 5, 6],\n",
    "#        [7, 8, 9]], dtype=int8)"
   ]
  },
  {
   "cell_type": "code",
   "execution_count": 52,
   "id": "58b42438-7568-4b0f-b5e8-4d8bbcb99710",
   "metadata": {},
   "outputs": [
    {
     "data": {
      "text/plain": [
       "362880"
      ]
     },
     "execution_count": 52,
     "metadata": {},
     "output_type": "execute_result"
    }
   ],
   "source": [
    "a = np.array([[1,2,3],[4,5,6],[7,8,9]], dtype='int8')\n",
    "\n",
    "type(a)  # numpy.ndarray \n",
    "\n",
    "a.ndim  # 2 Dimension : row X col\n",
    "a.dtype # Data type : int8\n",
    "a.size  # 9 \n",
    "a.shape # No.row X No.col : 3 X 3\n",
    "a.itemsize  # Size of each element in byte(8 bits)\n",
    "a.nbytes    # Total size of np array : 9 bytes\n",
    "\n",
    "a.max()    # max element value : 9\n",
    "np.max(a)  #  same as above\n",
    "\n",
    "a.argmax() # max element series_index : 8\n",
    "\n",
    "a.min()    # min element value: 1\n",
    "           # same as above\n",
    "    \n",
    "a.argmin() # min element series_index: 1   \n",
    "\n",
    "a.sum()    # sum of all element: 45\n",
    "a.prod()   # product of all element: 362880\n",
    "\n",
    "a.astype('float') # change the dataType to float \n",
    "# It is used in ML example if you have age in float then we will convert into int8 \n",
    "# which reduces memory and increces to speed"
   ]
  },
  {
   "cell_type": "code",
   "execution_count": 19,
   "id": "0dc1c8ba",
   "metadata": {},
   "outputs": [
    {
     "data": {
      "text/plain": [
       "array([2, 2, 1])"
      ]
     },
     "execution_count": 19,
     "metadata": {},
     "output_type": "execute_result"
    }
   ],
   "source": [
    "# import \n",
    "# a = np.random.randint(1,10, size=(3,4))\n",
    "a= np.array([[3, 3, 5, 2],\n",
    "             [6, 2, 6, 5],\n",
    "             [9, 7, 1, 2]])\n",
    "\n",
    "np.min(a, axis=0)    # >>> array([3, 2, 1, 2])\n",
    "np.min(a, axis=1)    # >>> array([2, 2, 1])\n",
    "# a"
   ]
  },
  {
   "cell_type": "markdown",
   "id": "a6afda90-515d-4447-a2f0-6bf0dd2ed870",
   "metadata": {},
   "source": [
    "# Operation \n",
    "Numpy Array Operation Can be broadly classified into 3 types\n",
    "- Scalar Operation \n",
    "- Condition Operation\n",
    "- Vector Operation"
   ]
  },
  {
   "cell_type": "markdown",
   "id": "d65a2521-3678-4026-a200-4d89b1485bdd",
   "metadata": {
    "jp-MarkdownHeadingCollapsed": true,
    "tags": []
   },
   "source": [
    "## Scalar Operation "
   ]
  },
  {
   "cell_type": "code",
   "execution_count": 109,
   "id": "9ee49c2e-4c41-4d49-947d-c28368a6db8c",
   "metadata": {},
   "outputs": [],
   "source": [
    "a = np.array([1,2,5,7,8,3],dtype ='int8')\n",
    "\n",
    "# a + 2 # [ 3,  4,  7,  9, 10,  5]\n",
    "# a -2  # [-1,  0,  3,  5,  6,  1],\n",
    "# a *2  # [ 2,  4, 10, 14, 16,  6]\n",
    "# a **2 # [ 1,  4, 25, 49, 64,  9],\n",
    "# a/2   # [0.5, 1. , 2.5, 3.5, 4. , 1.5]\n",
    "# a//2  # [0, 1, 2, 3, 4, 1]\n",
    "# a%2   # [1, 0, 1, 1, 0, 1], "
   ]
  },
  {
   "cell_type": "markdown",
   "id": "dfc885d7-32f4-4dd2-b105-c079a647e301",
   "metadata": {
    "tags": []
   },
   "source": [
    "## Condtional Operations "
   ]
  },
  {
   "cell_type": "code",
   "execution_count": 112,
   "id": "812e2f6b-b339-4ce1-9ad1-012a8858ad54",
   "metadata": {},
   "outputs": [
    {
     "data": {
      "text/plain": [
       "array([ True,  True, False,  True,  True,  True])"
      ]
     },
     "execution_count": 112,
     "metadata": {},
     "output_type": "execute_result"
    }
   ],
   "source": [
    "a = np.array([1,2,5,7,8,3],dtype ='uint8')\n",
    "\n",
    "a > 5  # >>> array([False, False, False,  True,  True, False])\n",
    "a >= 5 # >>> array([False, False, True,  True,  True, False])\n",
    "a < 5  # >>> array([ True,  True, False, False, False,  True])\n",
    "a <=5  # >>> array([ True,  True,  True, False, False,  True])\n",
    "\n",
    "a ==5   # >>> array([False, False,  True, False, False, False])\n",
    "a !=5   # >>> array([ True,  True, False,  True,  True,  True])\n",
    "~(a==5) # >>> array([ True,  True, False,  True,  True,  True])\n",
    "# ~ : is not operator"
   ]
  },
  {
   "cell_type": "markdown",
   "id": "427dceab-27bd-43e6-80ab-64caa6cd84cd",
   "metadata": {},
   "source": [
    "## Vector Operator"
   ]
  },
  {
   "cell_type": "code",
   "execution_count": 73,
   "id": "19728b73-9c5d-427d-b581-6edc5acbdff7",
   "metadata": {},
   "outputs": [],
   "source": [
    "a= np.arange(0,6).reshape(2,3)   # array([[0, 1, 2],\n",
    "                                        # [3, 4, 5]])\n",
    "\n",
    "b= np.arange(6,12).reshape(2,3)   # array([[6, 7, 8],\n",
    "                                         # [9, 10, 11]])"
   ]
  },
  {
   "cell_type": "code",
   "execution_count": 85,
   "id": "a2beb6f3-cc2a-477b-aacb-b6b078970bf5",
   "metadata": {},
   "outputs": [
    {
     "data": {
      "text/plain": [
       "array([[0, 1, 2],\n",
       "       [3, 4, 5]])"
      ]
     },
     "execution_count": 85,
     "metadata": {},
     "output_type": "execute_result"
    }
   ],
   "source": [
    "b + a # array([[ 6,  8, 10],\n",
    "             # [12, 14, 16]])\n",
    "    \n",
    "b - a   # array([[6, 6, 6],\n",
    "               # [6, 6, 6]])\n",
    "    \n",
    "a * b   # array([[ 0,  7, 16],\n",
    "               # [27, 40, 55]])\n",
    "    \n",
    "a / b    # array([[0.        , 0.14285714, 0.25      ],\n",
    "                # [0.33333333, 0.4       , 0.45454545]])\n",
    "\n",
    "b ** a  # array([[     1,      7,     64],\n",
    "               # [   729,  10000, 161051]])\n",
    "    \n",
    "a % b  # array([[0, 1, 2],\n",
    "              # [3, 4, 5]])        "
   ]
  },
  {
   "cell_type": "markdown",
   "id": "48910a6a-ba87-4b71-9d02-3e1d156bdd2b",
   "metadata": {},
   "source": [
    "## LinearAlgebra (Matrix Operation)\n",
    "https://numpy.org/doc/stable/reference/routines.linalg.html"
   ]
  },
  {
   "cell_type": "code",
   "execution_count": 26,
   "id": "de1f44dc-0b8b-4131-ba1b-76e509589e31",
   "metadata": {},
   "outputs": [
    {
     "data": {
      "text/plain": [
       "array([-3,  6, -3])"
      ]
     },
     "execution_count": 26,
     "metadata": {},
     "output_type": "execute_result"
    }
   ],
   "source": [
    "x = [1, 2, 3]\n",
    "y = [4, 5, 6]"
   ]
  },
  {
   "cell_type": "code",
   "execution_count": 37,
   "id": "bd3d2537-f700-4406-946c-0ee3223dd498",
   "metadata": {},
   "outputs": [
    {
     "data": {
      "text/plain": [
       "array([[4, 2],\n",
       "       [1, 2]])"
      ]
     },
     "execution_count": 37,
     "metadata": {},
     "output_type": "execute_result"
    }
   ],
   "source": [
    "# Vector Product: \n",
    "np.dot(x,y)  #>>> 32\n",
    "\n",
    "# # Vector Cross Product\n",
    "np.cross(x,y)  #>>> array([-3,  6, -3])\n",
    "\n",
    "a = np.array([[1, 0],\n",
    "              [0, 1]])\n",
    "\n",
    "b = np.array([[4, 1],\n",
    "              [2, 2]])\n",
    "\n",
    "# # Matrix Multiplication\n",
    "np.matmul(a, b)   \n",
    "\n",
    "# array([[4, 1],\n",
    "#       [2, 2]])\n",
    "\n",
    "\n",
    "# # Matrix power\n",
    "np.linalg.matrix_power(b, 3) # Matrix A rise to power n\n",
    "\n",
    "# array([[84, 30],\n",
    "#        [60, 24]])\n",
    "\n",
    "\n",
    "\n",
    "# # Inverse Matrix\n",
    "np.linalg.inv(b)  # \n",
    "\n",
    "# array([[ 0.33333333, -0.16666667],\n",
    "#        [-0.33333333,  0.66666667]])\n",
    "\n",
    "# # Visit the site for more details like Eigen Value, Eigen Vector, UD Decomposison, \n",
    "\n",
    "np.linalg.matrix_rank(b)   # Return matrix rank of array using SVD method\n",
    "# >> 2\n",
    "\n",
    "np.trace(b)             # Return the sum along diagonals of the array.\n",
    "# >>> 6\n",
    "\n",
    "np.linalg.solve(a, b)   # Solve a linear matrix equation, or system of linear scalar equations.\n",
    "# >>>     array([[4., 1.],\n",
    "#            [2., 2.]])\n",
    "\n",
    "np.linalg.det(b)        # Compute the determinant of an array.\n",
    "# >>> 6.0\n",
    "\n",
    "np.transpose(b)         # Transpose Matrix \n",
    "b.T                     # Transpose Matrix\n",
    "# array([[4, 2],\n",
    "#        [1, 2]])\n"
   ]
  },
  {
   "cell_type": "markdown",
   "id": "8d3707e4",
   "metadata": {},
   "source": [
    "# Load numpy from file\n",
    "There are two ways (constructs) in NumPy to load data from a text file:<br>\n",
    "(1) using `loadtxt()` function<br>\n",
    "(2) using `genfromtxt()` function<br>"
   ]
  },
  {
   "cell_type": "code",
   "execution_count": 118,
   "id": "c35184da",
   "metadata": {},
   "outputs": [
    {
     "name": "stdout",
     "output_type": "stream",
     "text": [
      "[[0.82596839 0.95833501 0.17192437 0.78371888 0.53945031]\n",
      " [0.9723533  0.59918521 0.1236615  0.66834103 0.40173496]\n",
      " [0.54851693 0.48833575 0.56565191 0.49291561 0.93611409]\n",
      " [0.36303892 0.99167391 0.47755838 0.47440971 0.36824659]\n",
      " [0.51440319 0.13839975 0.24978329 0.4493709  0.91917307]\n",
      " [0.68906406 0.28156694 0.91395489 0.191582   0.97669197]\n",
      " [0.51914243 0.73206077 0.45293007 0.21657347 0.71859144]\n",
      " [0.01915101 0.97520877 0.03131179 0.11126382 0.85022564]]\n"
     ]
    }
   ],
   "source": [
    "filedata = np.genfromtxt('data.txt', delimiter=',')\n",
    "filedata = filedata.astype('int32')\n",
    "print(filedata)"
   ]
  },
  {
   "cell_type": "markdown",
   "id": "34568fac",
   "metadata": {},
   "source": [
    "# input/output: \n",
    "## `LoadText` file in numpy: \n",
    "```python\n",
    "dtype_dict ={'names': ('longitude','latitude','housing_median_age','total_rooms','total_bedrooms',\n",
    "                       'population','households','median_income','median_house_value','ocean_proximity'),\n",
    "             'formats': ('f8', 'f8', 'f8', 'f8', 'f8', 'f8', 'f8', 'f8', 'f8', '|S15')}\n",
    "np.loadtxt(file, dtype=dtype_dict, delimiter=',', skiprows=1, unpack=True)\n",
    "```\n",
    "*first parameter* - file. It is the `name of the file` from which the data is to be loaded.\n",
    "\n",
    "*second parameter* - data type `dtype` of columns of the loaded csv file `housing_short.csv`. It is a Python dictionary with key as names of the columns, and values as the data types of these respective columns<br> \n",
    "e.g. f8, |S15, etc.\n",
    "- 'f8' means 64-bit floating-point number\n",
    "- '|S15' -means a string of length of 15 characters\n",
    "\n",
    "*third parameter* - delimiter. It is the character by which values in a row of our csv file are separated.<br> \n",
    "For example, in our case values of a row of our csv file - housing_short.csv - are separated by ',' (comma)\n",
    "\n",
    "*fourth parameter* - skiprows. You can specify here, how many initial rows of the csv file you want to skip loading.<br> \n",
    "E.g. you may want to skip the first row of this csv file, as it may contain header information in the first row, which you may not want to load.\n",
    "\n",
    "*fifth parameter* - unpack. When unpack is True, the returned array is transposed, so that arguments may be unpacked using `x, y, z = loadtxt(...)` . When used with a structured data-type, arrays are returned for each field. The default value for unpack is False. But here we are returning the individual arrays so we have kept it here asTrue."
   ]
  },
  {
   "cell_type": "markdown",
   "id": "412f45e2",
   "metadata": {},
   "source": [
    "Difference between resize() and reshape() :\n",
    "\n",
    "reshape() will create an array with the same number of elements as the original array, i.e. of the same ‘size’ as that of the original array. If you want to convert the original array to a bigger array, reshape() can’t add more elements(than available in the original array) to give you a bigger array. Hence, reshape() is used to create a new array of the same size (as the original array) but of different desired dimensions.\n",
    "\n",
    "resize() can create an array of larger size than the original array. To convert the original array into a bigger array, resize() will add more elements (than available in the original array) by copying the existing elements (repeated as many times as required) to fill the desired larger size. resize() is used to create a new array of different sizes and dimensions."
   ]
  },
  {
   "cell_type": "markdown",
   "id": "f3282d71",
   "metadata": {},
   "source": [
    "# Indexing and Slicing\n",
    "<img >\n",
    "<img align=\"right\"  src=\"th-3753005622.png\" alt=\"Girl in a jacket\" width=\"500\" height=\"600\"> \n",
    "Array element of <br>\n",
    "ith row,  jth col element = A[i,j]\n",
    "2nd row = A[1,:]\n",
    "3rd col = A[:,2]\n",
    "\n",
    "## Slicing"
   ]
  },
  {
   "cell_type": "code",
   "execution_count": null,
   "id": "f8d93803",
   "metadata": {},
   "outputs": [],
   "source": []
  },
  {
   "cell_type": "code",
   "execution_count": 103,
   "id": "19581b71",
   "metadata": {},
   "outputs": [],
   "source": [
    "a = np.arange(0,10) # [0,1,2,3,4,5,6,7,8,9]\n",
    "a[2:5]     # [2,3,4]\n",
    "a[2:5:2]   # [2,4]\n",
    "a[0:10:2]  # [0,2,4,6,8]\n",
    "a[::2]     # even index value [0,2,4,6,8]\n",
    "a = [[1,2,3,4,5],[6,7,8,9,10]]\n",
    "# a[::2,::2]  # even index in 2D array\n",
    "\n",
    "\n",
    "\n",
    " "
   ]
  },
  {
   "cell_type": "code",
   "execution_count": 113,
   "id": "0060bfd6",
   "metadata": {},
   "outputs": [
    {
     "name": "stdout",
     "output_type": "stream",
     "text": [
      "[[ 0  1  2  3]\n",
      " [ 4  5  6  7]\n",
      " [ 8  9 10 11]\n",
      " [12 13 14 15]\n",
      " [16 17 18 19]\n",
      " [20 21 22 23]]\n"
     ]
    },
    {
     "data": {
      "text/plain": [
       "array([[ 0,  1,  2,  3],\n",
       "       [ 8,  9, 10, 11],\n",
       "       [16, 17, 18, 19]])"
      ]
     },
     "execution_count": 113,
     "metadata": {},
     "output_type": "execute_result"
    }
   ],
   "source": [
    "# Fancy Index \n",
    "\n",
    "a= np.arange(24).reshape(6,4)\n",
    "# [[ 0  1  2  3]\n",
    "#  [ 4  5  6  7]\n",
    "#  [ 8  9 10 11]\n",
    "#  [12 13 14 15]\n",
    "#  [16 17 18 19]\n",
    "#  [20 21 22 23]]\n",
    "\n",
    "a[[0,2,4]] # get 0th, 2nd, 4th rows\n",
    "\n",
    "# array([[ 0,  1,  2,  3],\n",
    "#        [ 8,  9, 10, 11],\n",
    "#        [16, 17, 18, 19]])\n"
   ]
  },
  {
   "cell_type": "markdown",
   "id": "cba14a51",
   "metadata": {},
   "source": [
    "# Boolean Index"
   ]
  },
  {
   "cell_type": "code",
   "execution_count": 52,
   "id": "174303d9-d628-41d9-9986-7eea5fb264eb",
   "metadata": {},
   "outputs": [
    {
     "data": {
      "text/plain": [
       "array([ 1,  3,  5,  7,  9, 11, 13, 15, 17, 19, 21, 23])"
      ]
     },
     "execution_count": 52,
     "metadata": {},
     "output_type": "execute_result"
    }
   ],
   "source": [
    "A = np.arange(0,25).reshape(5,5)\n",
    "# array([[ 0,  1,  2,  3,  4],\n",
    "#        [ 5,  6,  7,  8,  9],\n",
    "#        [10, 11, 12, 13, 14],\n",
    "#        [15, 16, 17, 18, 19],\n",
    "#        [20, 21, 22, 23, 24]])\n",
    "\n",
    "# Boolean Matrix \n",
    "\n",
    "A> 20  \n",
    "# array([[False, False, False, False, False],\n",
    "#        [False, False, False, False, False],\n",
    "#        [False, False, False, False, False],\n",
    "#        [False, False, False, False, False],\n",
    "#        [False,  True,  True,  True,  True]])\n",
    "\n",
    "#  Boolean Index\n",
    "\n",
    "A[A>20]  \n",
    "# array([21, 22, 23, 24])\n",
    "\n",
    "A [ (A >10) & (A<20) ]\n",
    "# array([11, 12, 13, 14, 15, 16, 17, 18, 19])\n",
    "\n",
    "A [~(A%2 ==0)]\n",
    "# array([ 1,  3,  5,  7,  9, 11, 13, 15, 17, 19, 21, 23])"
   ]
  },
  {
   "cell_type": "markdown",
   "id": "6ee9f8f6",
   "metadata": {},
   "source": [
    "# Reshape "
   ]
  },
  {
   "cell_type": "code",
   "execution_count": 68,
   "id": "4fcac3de",
   "metadata": {},
   "outputs": [
    {
     "data": {
      "text/plain": [
       "[array([[1, 2, 3, 4]]), array([[5, 6, 7, 8]])]"
      ]
     },
     "execution_count": 68,
     "metadata": {},
     "output_type": "execute_result"
    }
   ],
   "source": [
    "\n",
    "A = np.arange(1,10)\n",
    "B =A.reshape(3,3)       # [[1,2,3][4,5,6],[7,8,9]]\n",
    "\n",
    "# array([[1, 2, 3],\n",
    "#        [4, 5, 6],\n",
    "#        [7, 8, 9]])\n",
    "\n",
    "# Transpose a Matrix : \n",
    "np.transpose(B) \n",
    "B.T\n",
    "# array([[1, 4, 7],\n",
    "#        [2, 5, 8],\n",
    "#        [3, 6, 9]])\n",
    "\n",
    "# ravel: Convert [n X m] matrix to [1 X nm] array\n",
    "A.ravel()       \n",
    "# array([1, 2, 3, 4, 5, 6, 7, 8, 9])\n",
    "\n",
    "\n",
    "# Split \n",
    "B = np.array([[1,2,3,4],[5,6,7,8]] )\n",
    "\n",
    "np.hsplit(B,2)\n",
    "\n",
    "# [array([[1, 2],\n",
    "#         [5, 6]]),\n",
    "#  array([[3, 4],\n",
    "#         [7, 8]])]\n",
    "\n",
    "np.hsplit(B,4)\n",
    "\n",
    "# [array([[1],\n",
    "#         [5]]),\n",
    "#  array([[2],\n",
    "#         [6]]),\n",
    "#  array([[3],\n",
    "#         [7]]),\n",
    "#  array([[4],\n",
    "#         [8]])]\n",
    "\n",
    "np.vsplit(B,2) \n",
    "# [array([[1, 2, 3, 4]]), array([[5, 6, 7, 8]])]\n"
   ]
  },
  {
   "cell_type": "markdown",
   "id": "559b0c67",
   "metadata": {},
   "source": [
    "# Stacking \n",
    "\n",
    "\n"
   ]
  },
  {
   "cell_type": "code",
   "execution_count": 75,
   "id": "2d5354b5",
   "metadata": {},
   "outputs": [
    {
     "data": {
      "text/plain": [
       "array([[0, 1],\n",
       "       [2, 7],\n",
       "       [4, 5],\n",
       "       [6, 7]])"
      ]
     },
     "execution_count": 75,
     "metadata": {},
     "output_type": "execute_result"
    }
   ],
   "source": [
    "A = np.array([[0,1],[2,7]])\n",
    "B = np.array([[4,5],[6,7]])\n",
    "\n",
    "np.hstack((A,B))\n",
    "                    # array([[0, 1, 4, 5],\n",
    "                    #        [2, 7, 6, 7]])\n",
    "np.vstack((A,B))\n",
    "                    # array([[0, 1],\n",
    "                    #        [2, 7],\n",
    "                    #        [4, 5],\n",
    "                    #        [6, 7]])"
   ]
  },
  {
   "cell_type": "markdown",
   "id": "04b30918",
   "metadata": {},
   "source": [
    "# Missing Values "
   ]
  },
  {
   "cell_type": "code",
   "execution_count": 76,
   "id": "ea3994c8",
   "metadata": {},
   "outputs": [
    {
     "data": {
      "text/plain": [
       "array([1., 2., 6.])"
      ]
     },
     "execution_count": 76,
     "metadata": {},
     "output_type": "execute_result"
    }
   ],
   "source": [
    "s =np.array([1,2,np.nan,6])\n",
    "np.isnan(s)    # [False, False, True, False]\n",
    "s[ ~ np.isnan(s)]  # [1,2,6]\n"
   ]
  },
  {
   "cell_type": "markdown",
   "id": "bb0c10b7",
   "metadata": {},
   "source": [
    "# Random "
   ]
  },
  {
   "cell_type": "code",
   "execution_count": 130,
   "id": "c5f5eda6",
   "metadata": {},
   "outputs": [
    {
     "data": {
      "text/plain": [
       "array([[ 5,  5,  2],\n",
       "       [ 2, -3,  7],\n",
       "       [ 1, -1,  7]])"
      ]
     },
     "execution_count": 130,
     "metadata": {},
     "output_type": "execute_result"
    }
   ],
   "source": [
    "np.random.seed(47)\n",
    "np.random.random(size=10) \n",
    "# array([0.11348847, 0.97448309, 0.72873463, 0.35146781, 0.70760514,\n",
    "#        0.7996046 , 0.64556185, 0.41459961, 0.70603101, 0.24664938])\n",
    "\n",
    "np.random.uniform(low=3,high=7,size=10) # 10 values between 3,7 \n",
    "# array([4.02396973, 3.09604542, 3.39490382, 4.20174574, 5.56342271,\n",
    "#        4.28883179, 3.74197655, 6.6687742 , 4.08368321, 4.09419157])\n",
    "\n",
    "np.random.rand()  # random value between 0,1\n",
    "# 0.9544126823985427\n",
    "\n",
    "# TODO: # np.random.permutation()\n",
    "\n",
    "# Random Integer values\n",
    "np.random.randint(-4,8, size=(3,3))\n",
    "    # array([[ 5,  5,  2],\n",
    "    #        [ 2, -3,  7],\n",
    "    #        [ 1, -1,  7]])"
   ]
  },
  {
   "cell_type": "markdown",
   "id": "f0c68eba",
   "metadata": {},
   "source": [
    "# BuildIn Function "
   ]
  },
  {
   "cell_type": "code",
   "execution_count": null,
   "id": "d1d79567",
   "metadata": {},
   "outputs": [],
   "source": [
    "# import \n",
    "a = np.random.randint(1,10, size=(3,4))\n",
    "# >>> a= array([[3, 3, 5, 2],\n",
    "#               [6, 2, 6, 5],\n",
    "#               [9, 7, 1, 2]])\n",
    "\n",
    "np.min(a, axis=0)    # >>> array([3, 2, 1, 2])\n",
    "np.min(a, axis=1)    # >>> array([2, 2, 1])\n",
    "\n",
    "# here \n",
    "# axis=0  means: function perform col-vise operatoin and result is a row-matrix \n",
    "# axis=1  means: function perform row-vise operatoin and result is a col-matrix "
   ]
  },
  {
   "cell_type": "code",
   "execution_count": null,
   "id": "210242cd",
   "metadata": {},
   "outputs": [],
   "source": [
    "# \n",
    "np.min(a)\n",
    "np.max(a)\n",
    "np.sum(a)\n",
    "np.cumsum(a)\n",
    "np.cumproduct(a)\n",
    "np.sqrt(a)\n",
    "# Statistic \n",
    "np.mean(a)\n",
    "np.median(a)\n",
    "np.std (a)\n",
    "np.var (a)\n",
    "np.min (a)\n",
    "np.max (a)\n",
    "\n",
    "# Trigonomatric Function \n",
    "np.sin(a)\n",
    "np.cos(a) \n",
    "np.tan(a) \n",
    "np.exp(a) \n",
    "np.round(a) \n",
    "np.floar(a) \n",
    "np.ceil(a) \n"
   ]
  },
  {
   "cell_type": "markdown",
   "id": "42ec33b6",
   "metadata": {},
   "source": [
    "# Custom Function "
   ]
  },
  {
   "cell_type": "code",
   "execution_count": null,
   "id": "3dda306e",
   "metadata": {},
   "outputs": [],
   "source": [
    "def sigmod(x):\n",
    "    return 1/ (1+np.exp(x))\n",
    "\n"
   ]
  },
  {
   "cell_type": "markdown",
   "id": "f4fd569e",
   "metadata": {},
   "source": [
    "# Iteration (Loop)\n",
    "    "
   ]
  },
  {
   "cell_type": "code",
   "execution_count": null,
   "id": "583721ad",
   "metadata": {},
   "outputs": [],
   "source": [
    "a = np.array([[0,1,2,3],[4,5,6,7]])\n",
    "\n",
    "for row in a :\n",
    "    print(row)\n",
    "\n",
    "for matrix2D in a3 :\n",
    "    print(matrix2D)\n",
    "\n",
    "\n",
    "for element in np.nditer(a):\n",
    "    print(element)\n",
    "\n",
    "for row in a:\n",
    "    for cell in row:\n",
    "        print(cell)    \n",
    "    \n",
    "for cell in a.flatten():\n",
    "    print(cell)\n"
   ]
  },
  {
   "cell_type": "markdown",
   "id": "e0be9ef5",
   "metadata": {},
   "source": [
    "# nditer\n",
    "##  C style ordering\n",
    "\n",
    "- TODO: Fortran order add image and practice\n",
    "- TODO: C order add image and practice \n"
   ]
  },
  {
   "cell_type": "code",
   "execution_count": 122,
   "id": "62e67098",
   "metadata": {},
   "outputs": [
    {
     "name": "stdout",
     "output_type": "stream",
     "text": [
      "[[ 0  1  2  3]\n",
      " [ 4  5  6  7]\n",
      " [ 8  9 10 11]]\n",
      "0\n",
      "1\n",
      "2\n",
      "3\n",
      "4\n",
      "5\n",
      "6\n",
      "7\n",
      "8\n",
      "9\n",
      "10\n",
      "11\n"
     ]
    }
   ],
   "source": [
    "a = np.arange(12).reshape(3,4)\n",
    "print(a)\n",
    "for x in np.nditer(a, order='C'): # iterate row-view \n",
    "    print(x)"
   ]
  },
  {
   "cell_type": "code",
   "execution_count": 124,
   "id": "d67a5bd1",
   "metadata": {},
   "outputs": [
    {
     "name": "stdout",
     "output_type": "stream",
     "text": [
      "[[ 0  1  2  3]\n",
      " [ 4  5  6  7]\n",
      " [ 8  9 10 11]]\n",
      "0\n",
      "4\n",
      "8\n",
      "1\n",
      "5\n",
      "9\n",
      "2\n",
      "6\n",
      "10\n",
      "3\n",
      "7\n",
      "11\n"
     ]
    }
   ],
   "source": [
    "print(a)\n",
    "for x in np.nditer(a, order='F'): # iterate col-vise\n",
    "    print(x)"
   ]
  },
  {
   "cell_type": "markdown",
   "id": "b5c53745",
   "metadata": {},
   "source": [
    "### External loop"
   ]
  },
  {
   "cell_type": "code",
   "execution_count": 126,
   "id": "8f74c5d1",
   "metadata": {},
   "outputs": [
    {
     "name": "stdout",
     "output_type": "stream",
     "text": [
      "[[ 0  1  2  3]\n",
      " [ 4  5  6  7]\n",
      " [ 8  9 10 11]]\n",
      "# # # # # # # # # # \n",
      "[0 4 8]\n",
      "[1 5 9]\n",
      "[ 2  6 10]\n",
      "[ 3  7 11]\n"
     ]
    }
   ],
   "source": [
    "print(a)\n",
    "print('# '*10)\n",
    "for x in np.nditer(a, flags=['external_loop'],order='F'):\n",
    "    print(x)\n"
   ]
  },
  {
   "cell_type": "markdown",
   "id": "5f18a45c",
   "metadata": {},
   "source": [
    "### Modify array values while"
   ]
  },
  {
   "cell_type": "code",
   "execution_count": 129,
   "id": "d5d96e31",
   "metadata": {},
   "outputs": [
    {
     "name": "stdout",
     "output_type": "stream",
     "text": [
      "[[ 0  1  2  3]\n",
      " [ 4  5  6  7]\n",
      " [ 8  9 10 11]]\n",
      "[[  0   1   4   9]\n",
      " [ 16  25  36  49]\n",
      " [ 64  81 100 121]]\n"
     ]
    }
   ],
   "source": [
    "a = np.arange(12).reshape(3,4)\n",
    "print(a)\n",
    "\n",
    "for x in np.nditer(a, op_flags=['readwrite']):\n",
    "    x[...] = x * x\n",
    "    \n",
    "print(a)"
   ]
  },
  {
   "cell_type": "code",
   "execution_count": 128,
   "id": "0a85257e",
   "metadata": {},
   "outputs": [
    {
     "data": {
      "text/plain": [
       "array([[  0,   1,   4,   9],\n",
       "       [ 16,  25,  36,  49],\n",
       "       [ 64,  81, 100, 121]])"
      ]
     },
     "execution_count": 128,
     "metadata": {},
     "output_type": "execute_result"
    }
   ],
   "source": [
    "a"
   ]
  },
  {
   "cell_type": "code",
   "execution_count": null,
   "id": "ddef9381",
   "metadata": {},
   "outputs": [],
   "source": [
    "a = np.arange(12).reshape(3,4)\n",
    "# array([[ 0,  1,  2,  3],\n",
    "#        [ 4,  5,  6,  7],\n",
    "#        [ 8,  9, 10, 11]])\n"
   ]
  },
  {
   "cell_type": "markdown",
   "id": "32b82fa8",
   "metadata": {},
   "source": [
    "# Sort "
   ]
  },
  {
   "cell_type": "code",
   "execution_count": 92,
   "id": "483f880b",
   "metadata": {},
   "outputs": [
    {
     "data": {
      "text/plain": [
       "array([[0.48148232, 0.30290073, 0.44292787],\n",
       "       [0.52813285, 0.60814462, 0.52524497],\n",
       "       [0.75405387, 0.77445802, 0.87904851]])"
      ]
     },
     "execution_count": 92,
     "metadata": {},
     "output_type": "execute_result"
    }
   ],
   "source": [
    "#a = np.random.random(9).reshape(3,3)  \n",
    "a = np.array([[0.75405387, 0.77445802, 0.87904851],\n",
    "              [0.48148232, 0.30290073, 0.44292787],\n",
    "              [0.52813285, 0.60814462, 0.52524497]])\n",
    "\n",
    "# increasing sort in row wise \n",
    "np.sort(a)  \n",
    "\n",
    "# array([[0.75405387, 0.77445802, 0.87904851],\n",
    "#        [0.30290073, 0.44292787, 0.48148232],\n",
    "#        [0.52524497, 0.52813285, 0.60814462]])\n",
    "\n",
    "np.sort(a, axis=0)  # col are sorted\n",
    "\n",
    "# array([[0.48148232, 0.30290073, 0.44292787],\n",
    "#        [0.52813285, 0.60814462, 0.52524497],\n",
    "#        [0.75405387, 0.77445802, 0.87904851]])\n"
   ]
  },
  {
   "cell_type": "markdown",
   "id": "dc6a1bca",
   "metadata": {},
   "source": [
    "# Append"
   ]
  },
  {
   "cell_type": "code",
   "execution_count": null,
   "id": "29e798eb",
   "metadata": {},
   "outputs": [],
   "source": [
    "np.append(a, row_new, axis=0)\n",
    "np.append(a, col_new, axis=1)"
   ]
  },
  {
   "cell_type": "markdown",
   "id": "3146b959",
   "metadata": {},
   "source": [
    "# Concat "
   ]
  },
  {
   "cell_type": "code",
   "execution_count": null,
   "id": "74f02a21",
   "metadata": {},
   "outputs": [],
   "source": [
    "np.concat(c,d)  # new row is added \n",
    "np.concat(c,d, axis=1)  # new col is added \n",
    "\n",
    "\n"
   ]
  },
  {
   "cell_type": "markdown",
   "id": "acdface9",
   "metadata": {},
   "source": [
    "# Unique "
   ]
  },
  {
   "cell_type": "code",
   "execution_count": 93,
   "id": "0280ab1d",
   "metadata": {},
   "outputs": [
    {
     "data": {
      "text/plain": [
       "array([0.30290073, 0.44292787, 0.48148232, 0.52524497, 0.52813285,\n",
       "       0.60814462, 0.75405387, 0.77445802, 0.87904851])"
      ]
     },
     "execution_count": 93,
     "metadata": {},
     "output_type": "execute_result"
    }
   ],
   "source": [
    "np.unique(a) "
   ]
  },
  {
   "cell_type": "markdown",
   "id": "c41de8fb",
   "metadata": {},
   "source": [
    "# Where \n",
    "np.where(a>50,0,a)  if a_elem > a then it is same value else a_elem = 0 <br>\n",
    "if a_ele > 50 then a = a <br>\n",
    "if a_ele !> 50 then a =0 <br>\n"
   ]
  },
  {
   "cell_type": "code",
   "execution_count": 97,
   "id": "1b095947",
   "metadata": {},
   "outputs": [
    {
     "name": "stdout",
     "output_type": "stream",
     "text": [
      "[[0.75405387 0.77445802 0.87904851]\n",
      " [0.48148232 0.30290073 0.44292787]\n",
      " [0.52813285 0.60814462 0.52524497]]\n"
     ]
    },
    {
     "data": {
      "text/plain": [
       "array([[0.75405387, 0.77445802, 0.87904851],\n",
       "       [0.        , 0.        , 0.        ],\n",
       "       [0.52813285, 0.60814462, 0.52524497]])"
      ]
     },
     "execution_count": 97,
     "metadata": {},
     "output_type": "execute_result"
    }
   ],
   "source": [
    "print(a)\n",
    "# [[0.75405387 0.77445802 0.87904851]\n",
    "#  [0.48148232 0.30290073 0.44292787]\n",
    "#  [0.52813285 0.60814462 0.52524497]]\n",
    "\n",
    "np.where(a< 0.5,0,a)\n",
    "\n",
    "# array([[0.75405387, 0.77445802, 0.87904851],\n",
    "#        [0.        , 0.        , 0.        ],\n",
    "#        [0.52813285, 0.60814462, 0.52524497]])"
   ]
  },
  {
   "cell_type": "markdown",
   "id": "a3a34353",
   "metadata": {},
   "source": [
    "# Histogram "
   ]
  },
  {
   "cell_type": "code",
   "execution_count": null,
   "id": "36bdc7a4",
   "metadata": {},
   "outputs": [],
   "source": [
    "np.histogram(a,bin=[10,20,30,.....100]) \n",
    "np.histogram(a,bin=[10,20,50,100])\n",
    " "
   ]
  },
  {
   "cell_type": "markdown",
   "id": "27c091c1",
   "metadata": {},
   "source": [
    "# Correlation Co-efficient "
   ]
  },
  {
   "cell_type": "code",
   "execution_count": 99,
   "id": "16c13b4a",
   "metadata": {},
   "outputs": [
    {
     "data": {
      "text/plain": [
       "array([[1.       , 0.8136049],\n",
       "       [0.8136049, 1.       ]])"
      ]
     },
     "execution_count": 99,
     "metadata": {},
     "output_type": "execute_result"
    }
   ],
   "source": [
    "np.corrcoef([20,40,25,36,60],[1,3,4,2,7])\n",
    "\n",
    "# array([[1.       , 0.8136049],\n",
    "#        [0.8136049, 1.       ]])\n"
   ]
  },
  {
   "cell_type": "markdown",
   "id": "53f4cd1a",
   "metadata": {},
   "source": [
    "# Plot "
   ]
  },
  {
   "cell_type": "code",
   "execution_count": 102,
   "id": "5db06353",
   "metadata": {},
   "outputs": [
    {
     "ename": "ModuleNotFoundError",
     "evalue": "No module named 'matplotlib'",
     "output_type": "error",
     "traceback": [
      "\u001b[0;31m---------------------------------------------------------------------------\u001b[0m",
      "\u001b[0;31mModuleNotFoundError\u001b[0m                       Traceback (most recent call last)",
      "Cell \u001b[0;32mIn[102], line 4\u001b[0m\n\u001b[1;32m      1\u001b[0m x \u001b[38;5;241m=\u001b[39m np\u001b[38;5;241m.\u001b[39mlinspace(\u001b[38;5;241m10\u001b[39m,\u001b[38;5;241m10\u001b[39m,\u001b[38;5;241m10\u001b[39m)\n\u001b[1;32m      2\u001b[0m y\u001b[38;5;241m=\u001b[39m np\u001b[38;5;241m.\u001b[39msin(x)\n\u001b[0;32m----> 4\u001b[0m \u001b[38;5;28;01mimport\u001b[39;00m \u001b[38;5;21;01mmatplotlib\u001b[39;00m\u001b[38;5;21;01m.\u001b[39;00m\u001b[38;5;21;01mpyplot\u001b[39;00m \u001b[38;5;28;01mas\u001b[39;00m \u001b[38;5;21;01mplt\u001b[39;00m \n\u001b[1;32m      5\u001b[0m plt\u001b[38;5;241m.\u001b[39mplot(x,y)\n",
      "\u001b[0;31mModuleNotFoundError\u001b[0m: No module named 'matplotlib'"
     ]
    }
   ],
   "source": [
    "x = np.linspace(10,10,10)\n",
    "y= np.sin(x)\n",
    "\n",
    "import matplotlib.pyplot as plt \n",
    "%matplotlib inline\n",
    "plt.plot(x,y)"
   ]
  },
  {
   "cell_type": "markdown",
   "id": "4f0afa0d",
   "metadata": {},
   "source": [
    "# TODO Mesh Grid"
   ]
  },
  {
   "cell_type": "code",
   "execution_count": null,
   "id": "d7017b36",
   "metadata": {},
   "outputs": [],
   "source": []
  },
  {
   "cell_type": "markdown",
   "id": "c0c40306",
   "metadata": {},
   "source": [
    "# Boardcasting\n",
    "\n",
    "<img align=\"right\"  src=\"Broacasting_2_rule.png\" alt=\"in a \" width=\"500\" height=\"600\"> "
   ]
  },
  {
   "cell_type": "markdown",
   "id": "091741f3",
   "metadata": {},
   "source": [
    "# Copy  and View"
   ]
  },
  {
   "cell_type": "code",
   "execution_count": null,
   "id": "107405ea",
   "metadata": {},
   "outputs": [],
   "source": [
    "a_backup = a.copy()\n",
    "a_ref = a.view() # it is refer any change in a_ref will change in a "
   ]
  },
  {
   "cell_type": "markdown",
   "id": "4ea89fd0",
   "metadata": {},
   "source": [
    "## Learn More from\n",
    "\n",
    "freecodeCamp: Python NumPy Tutorial for Beginners\n",
    "\n",
    "https://www.youtube.com/watch?v=QUT1VHiLmmI&t=1808s\n",
    "\n",
    "Learn more about numpy with\n",
    "\n",
    "https://www.youtube.com/watch?v=GB9ByFAIAH4 "
   ]
  },
  {
   "cell_type": "code",
   "execution_count": null,
   "id": "3abdd73c",
   "metadata": {},
   "outputs": [],
   "source": []
  }
 ],
 "metadata": {
  "kernelspec": {
   "display_name": "Python 3 (ipykernel)",
   "language": "python",
   "name": "python3"
  },
  "language_info": {
   "codemirror_mode": {
    "name": "ipython",
    "version": 3
   },
   "file_extension": ".py",
   "mimetype": "text/x-python",
   "name": "python",
   "nbconvert_exporter": "python",
   "pygments_lexer": "ipython3",
   "version": "3.11.5"
  }
 },
 "nbformat": 4,
 "nbformat_minor": 5
}
