{
 "cells": [
  {
   "cell_type": "markdown",
   "id": "0c188804-4343-47bf-9103-fd9a01dc7d5e",
   "metadata": {},
   "source": [
    "# Part -I : Try to Run local docker and git using python subprocess"
   ]
  },
  {
   "cell_type": "code",
   "execution_count": 9,
   "id": "a7a5400e-6b10-43ae-986e-e18d55b22edb",
   "metadata": {},
   "outputs": [],
   "source": [
    "import subprocess"
   ]
  },
  {
   "cell_type": "code",
   "execution_count": 10,
   "id": "9bad962e-e64d-400f-843a-9b52c2ddf186",
   "metadata": {},
   "outputs": [],
   "source": [
    "# import subprocess\n",
    "# res = subprocess.run (shell_cmd,shell=True, capture_output=True)\n",
    "# print(org_file)\n",
    "# print('Returncode:',res.returncode)\n",
    "# print('Stderr:',res.stderr)\n",
    "# print('Stdout:',res.stdout)\n"
   ]
  },
  {
   "cell_type": "markdown",
   "id": "51c7ea89-cc85-4047-9180-a697d1679c45",
   "metadata": {},
   "source": [
    "#### TODO \n",
    "##### - [1] to get the dockerfile of given run_id \n",
    "##### - [2] push dockerfile to codecommit\n",
    "##### - [3] use codebuild to create a docker image and push to ecr\n",
    "\n"
   ]
  },
  {
   "cell_type": "code",
   "execution_count": 15,
   "id": "ac5bea1c-ba34-4483-b388-951b40d62cc4",
   "metadata": {},
   "outputs": [
    {
     "name": "stdout",
     "output_type": "stream",
     "text": [
      "mlruns/117540195801610639/dcb3180767c24beea80157b5d2cef274/artifacts/random-forest-model\n"
     ]
    }
   ],
   "source": [
    "# mlrun_path='/home/karthik/workspace_mlops/mlflow-code/deploy-ml-mlflow-aws/mlruns/117540195801610639/60e9fe920d24436ebedacd69ece1fd9e/artifacts/random-forest-model'\n",
    "# mlrun_path='/home/karthik/workspace_mlops/mlflow-code/deploy-ml-mlflow-aws/mlruns/117540195801610639/dcb3180767c24beea80157b5d2cef274/artifacts/random-forest-model'\n",
    "\n",
    "# below mlrun path will give error\n",
    "# mlrun_path='/home/karthik/workspace_mlops/mlflow-code/deploy-ml-mlflow-aws/mlruns/117540195801610639/dcb3180767c24beea80157b5d2cef274/artifacts'\n",
    "\n",
    "# Genrallization of mlrun_path\n",
    "# mlrun will should be in format mlruns/{exp_id}/{run_id}/artifacts/{model_name}\n",
    "exp_id ='117540195801610639'\n",
    "run_id ='dcb3180767c24beea80157b5d2cef274'\n",
    "# run_id ='60e9fe920d24436ebedacd69ece1fd9e'\n",
    "model_name='random-forest-model'\n",
    "mlrun_path =f'mlruns/{exp_id}/{run_id}/artifacts/{model_name}'\n",
    "print(mlrun_path)"
   ]
  },
  {
   "cell_type": "code",
   "execution_count": 16,
   "id": "c998d7a2-bf21-4367-930d-53493735f2ad",
   "metadata": {},
   "outputs": [],
   "source": [
    "git_path ='/home/karthik/workspace_mlops/mlflow-code/mlflow_exp_id_143234e4829'\n",
    "# shell_cmd ='mlflow models generate-dockerfile -m {} -d {}  --env-manager local'.format(mlrun_path,git_path)\n",
    "# shell_cmd ='mlflow models generate-dockerfile -m {} -d {}  --env-manager virtualenv'.format(mlrun_path,git_path)\n",
    "shell_cmd ='mlflow models generate-dockerfile -m {} -d {}  --env-manager conda'.format(mlrun_path,git_path)                                                                                            "
   ]
  },
  {
   "cell_type": "code",
   "execution_count": 17,
   "id": "59e3ffe2-8873-41f1-96de-c2a4cf23c16a",
   "metadata": {},
   "outputs": [
    {
     "name": "stdout",
     "output_type": "stream",
     "text": [
      "Returncode:\n",
      "\t 0\n",
      "Stderr:\n",
      "\t /home/karthik/anaconda3/envs/mlflow/lib/python3.10/site-packages/click/core.py:2322: UserWarning: Use of conda is discouraged. If you use it, please ensure that your use of conda complies with Anaconda's terms of service (https://legal.anaconda.com/policies/en/?name=terms-of-service). virtualenv is the recommended tool for environment reproducibility. To suppress this warning, set the MLFLOW_DISABLE_ENV_MANAGER_CONDA_WARNING (default: False, type: bool) environment variable to 'TRUE'.\n",
      "  value = self.callback(ctx, self, value)\n",
      "2023/03/22 15:14:52 INFO mlflow.models.cli: Generating Dockerfile for model mlruns/117540195801610639/dcb3180767c24beea80157b5d2cef274/artifacts/random-forest-model\n",
      "2023/03/22 15:14:52 INFO mlflow.models.flavor_backend_registry: Selected backend for flavor 'python_function'\n",
      "2023/03/22 15:14:52 INFO mlflow.models.cli: Generated Dockerfile in directory /home/karthik/workspace_mlops/mlflow-code/mlflow_exp_id_143234e4829\n",
      "\n",
      "Stdout:\n",
      "\t \n"
     ]
    }
   ],
   "source": [
    "res = subprocess.run (shell_cmd,shell=True, capture_output=True)\n",
    "print('Returncode:\\n\\t',res.returncode)\n",
    "print('Stderr:\\n\\t',res.stderr.decode())\n",
    "print('Stdout:\\n\\t',res.stdout.decode())\n"
   ]
  },
  {
   "cell_type": "markdown",
   "id": "9087cd67-d043-46a8-b4fb-45040dd6b84f",
   "metadata": {},
   "source": [
    "# [1/3] `Successfull`: to get the dockerfile of given run_id"
   ]
  },
  {
   "cell_type": "code",
   "execution_count": 14,
   "id": "418ca911-f768-4ad2-bf65-810a59c92e78",
   "metadata": {},
   "outputs": [
    {
     "name": "stdout",
     "output_type": "stream",
     "text": [
      "Returncode: 0\n",
      "Stderr: b''\n",
      "Stdout: b'Initialized empty Git repository in /home/karthik/workspace_mlops/mlflow-code/mlflow_auto_git/.git/\\n'\n"
     ]
    }
   ],
   "source": [
    "# res = subprocess.run ('git init && git add .',shell=True, capture_output=True)\n",
    "# print('Returncode:',res.returncode)\n",
    "# print('Stderr:',res.stderr)\n",
    "# print('Stdout:',res.stdout)\n"
   ]
  },
  {
   "cell_type": "markdown",
   "id": "a8981a83-cdf0-435d-8ef0-448ae6948543",
   "metadata": {},
   "source": [
    "# below code will "
   ]
  },
  {
   "cell_type": "code",
   "execution_count": 35,
   "id": "b93bd5e2-f692-45c0-bd91-bc396f03d9f3",
   "metadata": {},
   "outputs": [
    {
     "name": "stdout",
     "output_type": "stream",
     "text": [
      "cd /home/karthik/workspace_mlops/mlflow-code/mlflow_exp_id_143234e4829 && git add . && git commit -m \"mlrun_id : 60e9fe920d24436ebedacd69ece1fd9e\"\n",
      "Returncode: 1\n",
      "Stderr: \n",
      "Stdout: On branch master\n",
      "Your branch is up to date with 'origin/master'.\n",
      "\n",
      "nothing to commit, working tree clean\n",
      "\n",
      "Returncode: 0\n",
      "Stderr: Everything up-to-date\n",
      "\n",
      "Stdout: \n"
     ]
    }
   ],
   "source": [
    "# if git init is not present\n",
    "# git_push_cmd =f'''cd {git_path} && git init && git add . && git commit -m \"mlrun_id : {str(run_id)}\"'''\n",
    "# git \n",
    "git_push_cmd =f'''cd {git_path} && git add . && git commit -m \"mlrun_id : {str(run_id)}\"'''\n",
    "print(git_push_cmd)\n",
    "res = subprocess.run (git_push_cmd,shell=True, capture_output=True)\n",
    "\n",
    "print('Returncode:',res.returncode)\n",
    "print('Stderr:',res.stderr.decode())\n",
    "print('Stdout:',res.stdout.decode())\n",
    "\n",
    "res = subprocess.run (f'''cd {git_path} && git push origin master''',shell=True, capture_output=True)\n",
    "print('Returncode:',res.returncode)\n",
    "print('Stderr:',res.stderr.decode())\n",
    "print('Stdout:',res.stdout.decode())\n"
   ]
  },
  {
   "cell_type": "code",
   "execution_count": 24,
   "id": "fea00b2d-fe4f-4293-94eb-f54e47dd6d64",
   "metadata": {},
   "outputs": [
    {
     "name": "stdout",
     "output_type": "stream",
     "text": [
      "Returncode: 0\n",
      "Stderr: b''\n",
      "Stdout: b''\n",
      "Returncode: 0\n",
      "Stderr: b''\n",
      "Stdout: b'/home/karthik/workspace_mlops/mlflow-code/mlflow_auto_git\\n'\n",
      "Returncode: 0\n",
      "Stderr: b''\n",
      "Stdout: b'/home/karthik/workspace_mlops/mlflow-code/mlflow_exp_id_143234e4829\\n'\n"
     ]
    }
   ],
   "source": [
    "git_path ='/home/karthik/workspace_mlops/mlflow-code/mlflow_exp_id_143234e4829'\n",
    "res = subprocess.run (f'cd {git_path}',shell=True, capture_output=True)\n",
    "print('Returncode:',res.returncode)\n",
    "print('Stderr:',res.stderr.decode())\n",
    "print('Stdout:',res.stdout.decode())\n",
    "\n",
    "# path changes \n",
    "res = subprocess.run ('pwd',shell=True, capture_output=True) # need to run command in online and along with cd git_path \n",
    "print('Returncode:',res.returncode)\n",
    "print('Stderr:',res.stderr.decode())\n",
    "print('Stdout:',res.stdout.decode())\n",
    "\n",
    "res = subprocess.run (f'cd {git_path} && pwd',shell=True, capture_output=True)\n",
    "print('Returncode:',res.returncode)\n",
    "print('Stderr:',res.stderr.decode())\n",
    "print('Stdout:',res.stdout.decode())\n"
   ]
  },
  {
   "cell_type": "code",
   "execution_count": 26,
   "id": "0971ffb0-890a-430a-a9cd-b239dc629228",
   "metadata": {},
   "outputs": [
    {
     "name": "stdout",
     "output_type": "stream",
     "text": [
      "Returncode: 0\n",
      "Stderr: b\"Warning: Permanently added the RSA host key for IP address '52.94.229.29' to the list of known hosts.\\r\\nremote: Validating objects: 0%        \\rremote: Validating objects: 100%        \\nTo ssh://git-codecommit.us-east-1.amazonaws.com/v1/repos/mlflow_exp_id_143234e4829\\n * [new branch]      master -> master\\n\"\n",
      "Stdout: b''\n"
     ]
    }
   ],
   "source": [
    "res = subprocess.run (f'''cd {git_path} && git push origin master''',shell=True, capture_output=True)\n",
    "print('Returncode:',res.returncode)\n",
    "print('Stderr:',res.stderr.decode())\n",
    "print('Stdout:',res.stdout.decode())\n"
   ]
  },
  {
   "cell_type": "code",
   "execution_count": 28,
   "id": "7adf0106-4b7b-4a52-ba8c-47c4ce0a4dd6",
   "metadata": {},
   "outputs": [
    {
     "name": "stdout",
     "output_type": "stream",
     "text": [
      "Returncode: 0\n",
      "Stderr: Warning: Permanently added the RSA host key for IP address '52.94.229.29' to the list of known hosts.\n",
      "remote: Validating objects: 100%        \n",
      "To ssh://git-codecommit.us-east-1.amazonaws.com/v1/repos/mlflow_exp_id_143234e4829\n",
      " * [new branch]      master -> master\n",
      "\n",
      "Stdout: \n"
     ]
    }
   ],
   "source": [
    "print('Returncode:',res.returncode)\n",
    "print('Stderr:',res.stderr.decode())\n",
    "print('Stdout:',res.stdout.decode())\n"
   ]
  },
  {
   "cell_type": "code",
   "execution_count": 2,
   "id": "28784f67-0013-4a77-b06b-0ba36cff283e",
   "metadata": {},
   "outputs": [
    {
     "name": "stdout",
     "output_type": "stream",
     "text": [
      "5\n",
      "6\n",
      "7\n",
      "8\n",
      "9\n",
      "10\n"
     ]
    }
   ],
   "source": [
    "# for i in range(5,11):\n",
    "#     print(i*10)"
   ]
  },
  {
   "cell_type": "markdown",
   "id": "74af6f47-7dd4-4f9f-bcf2-fef2a239c3d0",
   "metadata": {},
   "source": [
    "# Part -II try to REMOTELY RUN CMD in aws ec2 \"build docker image and push code to codecommit\" using paramiko "
   ]
  },
  {
   "cell_type": "code",
   "execution_count": 8,
   "id": "828fbd68-6a38-4b20-90fb-4c919d24d370",
   "metadata": {},
   "outputs": [
    {
     "name": "stdout",
     "output_type": "stream",
     "text": [
      "Established Connection\n",
      "running command: echo hi\n",
      "hi\n",
      "\n",
      "\n",
      "running command: whoami\n",
      "mlflow\n",
      "\n",
      "\n",
      "running command: hostname\n",
      "ip-172-31-63-157\n",
      "\n",
      "\n",
      "running command: ls\n",
      "anaconda3\n",
      "aws\n",
      "env.yml\n",
      "mlflow_sftp\n",
      "mllogs\n",
      "mlrun\n",
      "mlruns\n",
      "pysftp\n",
      "\n",
      "\n"
     ]
    }
   ],
   "source": [
    "# ssh into ec2 instance \n",
    "# config = {'host': 'ec2-54-152-159-83.compute-1.amazonaws.com', \n",
    "#           'port': 22, \n",
    "#           'username': 'mlflow', \n",
    "#           'password': None, 'path': ''}\n",
    "import paramiko\n",
    "commands = [\n",
    "    \"echo hi\",\n",
    "    \"whoami\",\n",
    "    \"hostname\",\n",
    "    \"ls\"\n",
    "]\n",
    "host= 'ec2-54-157-140-166.compute-1.amazonaws.com'\n",
    "# 'ec2-54-152-159-83.compute-1.amazonaws.com'\n",
    "# ssh_key_file = '/home/karthik/.ssh/ec2_rsa.pem'\n",
    "# ssh_key_file ='/home/karthik/aws-dam/mlflow.pem'\n",
    "\n",
    "username='mlflow'\n",
    "# k = paramiko.RSAKey.from_private_key_file(\"/Users/ruan/.ssh/id_rsa\")\n",
    "k = paramiko.RSAKey.from_private_key_file(ssh_key_file)\n",
    "c = paramiko.SSHClient()\n",
    "c.set_missing_host_key_policy(paramiko.AutoAddPolicy())\n",
    "c.connect(hostname=host, username=username, pkey=k, allow_agent=False, look_for_keys=False)\n",
    "print(\"Established Connection\")\n",
    "for command in commands:\n",
    "    print(\"running command: {}\".format(command))\n",
    "    stdin , stdout, stderr = c.exec_command(command)\n",
    "    print(stdout.read().decode())\n",
    "    print(stderr.read().decode())\n"
   ]
  },
  {
   "cell_type": "code",
   "execution_count": null,
   "id": "7a7a03a4-d549-4794-9c68-8e8008b6e813",
   "metadata": {
    "tags": []
   },
   "outputs": [],
   "source": []
  },
  {
   "cell_type": "code",
   "execution_count": null,
   "id": "67bbcaf4-2d87-4ff2-933f-c31949734571",
   "metadata": {},
   "outputs": [],
   "source": []
  },
  {
   "cell_type": "code",
   "execution_count": 19,
   "id": "05c9c97d-5afd-4263-ab9f-c35a833ec949",
   "metadata": {},
   "outputs": [
    {
     "name": "stdout",
     "output_type": "stream",
     "text": [
      "rm -rf /home/mlflow/codecommit/mlflow_exp_id_143234e4829/Dockerfile /home/mlflow/codecommit/mlflow_exp_id_143234e4829/model_dir/\n",
      "source ~/.env  && source ~/anaconda3/etc/profile.d/conda.sh && conda activate mlflow && mlflow models generate-dockerfile -m s3://s3-mlflow-server/3/222de31b3354460b9afa2b56da32de37/artifacts/random-forest-model -d /home/mlflow/codecommit/mlflow_exp_id_143234e4829\n",
      "cd /home/mlflow/codecommit/mlflow_exp_id_143234e4829 && git add . && git commit -m \"Experiment ID: 3\tmlrun_id : 222de31b3354460b9afa2b56da32de37\"\n",
      "cd /home/mlflow/codecommit/mlflow_exp_id_143234e4829 && git push origin master\n"
     ]
    }
   ],
   "source": [
    "# exp_id ='117540195801610639'\n",
    "exp_id ='3'\n",
    "# run_id ='dcb3180767c24beea80157b5d2cef274'\n",
    "# run_id ='60e9fe920d24436ebedacd69ece1fd9e'\n",
    "# run_id ='65592ffd82554aa3b2ad7d26f5f56a2b'\n",
    "run_id ='222de31b3354460b9afa2b56da32de37'\n",
    "# run_id ='73a4b9790d5e460990221db52e42184a'\n",
    "model_name='random-forest-model'\n",
    "# artifact_path = f'mlruns/{exp_id}/{run_id}/artifacts/{model_name}' # mlruns/117540195801610639/60e9fe920d24436ebedacd69ece1fd9e/artifacts/random-forest-model\n",
    "\n",
    "artifact_path = f's3://s3-mlflow-server/{exp_id}/{run_id}/artifacts/{model_name}'\n",
    "# print('Artifact Path:',artifact_path,'\\n')\n",
    "     # >>> Artifact Path: s3://s3-mlflow-server/3/73a4b9790d5e460990221db52e42184a/artifacts/random-forest-model\n",
    "\n",
    "# # # \n",
    "\n",
    "conda_load='source ~/anaconda3/etc/profile.d/conda.sh'\n",
    "venv='mlflow'\n",
    "activate_env = f'conda activate {venv}'\n",
    "git_path= '/home/mlflow/codecommit/mlflow_exp_id_143234e4829' \n",
    "\n",
    "# # # # \n",
    "generate_dockerfile_cmd =f'mlflow models generate-dockerfile -m {artifact_path} -d {git_path}'\n",
    "    # >>> mlflow models generate-dockerfile -m s3://s3-mlflow-server/3/73a4b9790d5e460990221db52e42184a/artifacts/random-forest-model -d /home/mlflow/codecommit\n",
    "\n",
    "clean_git_repo=f'rm -rf {git_path}/Dockerfile {git_path}/model_dir/'\n",
    "\n",
    "conda_generate_docker_cmd = f'source ~/.env  && {conda_load} && {activate_env} && {generate_dockerfile_cmd}'\n",
    "git_commit_cmd =f'''cd {git_path} && git add . && git commit -m \"Experiment ID: {exp_id}\\tRun ID : {str(run_id)}\"'''\n",
    "git_push_cmd=f'cd {git_path} && git push origin master'\n",
    "\n",
    "shell_cmds = [ \n",
    "    clean_git_repo,\n",
    "    conda_generate_docker_cmd,\n",
    "    git_commit_cmd,\n",
    "    git_push_cmd\n",
    "]\n",
    "\n",
    "print('\\n'.join(shell_cmds))\n",
    "\n"
   ]
  },
  {
   "cell_type": "code",
   "execution_count": 20,
   "id": "f37694e0-66b8-4992-b41e-07fa033b45d5",
   "metadata": {
    "collapsed": true,
    "jupyter": {
     "outputs_hidden": true
    },
    "tags": []
   },
   "outputs": [
    {
     "name": "stdout",
     "output_type": "stream",
     "text": [
      "# # # # # # # # # # \n",
      "Command :\t cd /home/mlflow/codecommit/mlflow_exp_id_143234e4829 && ls\n",
      "Std Out:\t Dockerfile\n",
      "READ.md\n",
      "model_dir\n",
      "\n",
      "Std Err:\t \n",
      "# # # # # # # # # # \n",
      "Command :\t rm -rf /home/mlflow/codecommit/mlflow_exp_id_143234e4829/Dockerfile /home/mlflow/codecommit/mlflow_exp_id_143234e4829/model_dir/\n",
      "Std Out:\t \n",
      "Std Err:\t \n",
      "# # # # # # # # # # \n",
      "Command :\t source ~/.env  && source ~/anaconda3/etc/profile.d/conda.sh && conda activate mlflow && mlflow models generate-dockerfile -m s3://s3-mlflow-server/3/222de31b3354460b9afa2b56da32de37/artifacts/random-forest-model -d /home/mlflow/codecommit/mlflow_exp_id_143234e4829\n",
      "Std Out:\t \n",
      "Std Err:\t 2023/03/20 08:38:27 INFO mlflow.models.cli: Generating Dockerfile for model s3://s3-mlflow-server/3/222de31b3354460b9afa2b56da32de37/artifacts/random-forest-model\n",
      "2023/03/20 08:38:27 INFO mlflow.models.flavor_backend_registry: Selected backend for flavor 'python_function'\n",
      "2023/03/20 08:38:27 INFO mlflow.models.cli: Generated Dockerfile in directory /home/mlflow/codecommit/mlflow_exp_id_143234e4829\n",
      "\n",
      "# # # # # # # # # # \n",
      "Command :\t cd /home/mlflow/codecommit/mlflow_exp_id_143234e4829 && git add . && git commit -m \"Experiment ID: 3\tmlrun_id : 222de31b3354460b9afa2b56da32de37\"\n",
      "Std Out:\t [master 71a2168] Experiment ID: 3\tmlrun_id : 222de31b3354460b9afa2b56da32de37\n",
      " 2 files changed, 3 insertions(+), 3 deletions(-)\n",
      " rewrite model_dir/random-forest-model/model.pkl (88%)\n",
      "\n",
      "Std Err:\t \n",
      "# # # # # # # # # # \n",
      "Command :\t cd /home/mlflow/codecommit/mlflow_exp_id_143234e4829 && git push origin master\n",
      "Std Out:\t \n",
      "remote: Validating objects: 100%                \n",
      "To ssh://git-codecommit.us-east-1.amazonaws.com/v1/repos/mlflow_exp_id_143234e4829\n",
      "   2978960..71a2168  master -> master\n",
      "\n",
      "# # # # # # # # # # \n",
      "Command :\t cd /home/mlflow/codecommit/mlflow_exp_id_143234e4829 && ls\n",
      "Std Out:\t Dockerfile\n",
      "READ.md\n",
      "model_dir\n",
      "\n",
      "Std Err:\t \n"
     ]
    }
   ],
   "source": [
    "import paramiko\n",
    "# ssh_key_file ='/home/karthik/aws-dam/mlflow.pem'\n",
    "ssh_key_file = '/home/karthik/.ssh/ec2_rsa.pem'\n",
    "host= 'ec2-54-157-140-166.compute-1.amazonaws.com'\n",
    "username='mlflow'\n",
    "\n",
    "k = paramiko.RSAKey.from_private_key_file(ssh_key_file)\n",
    "c = paramiko.SSHClient()\n",
    "c.set_missing_host_key_policy(paramiko.AutoAddPolicy())\n",
    "    # command = \n",
    "# my_command= 'source /home/mlflow/anaconda3/envs/mlflow/bin/python;python3 --version;qark;echo hello'\n",
    "c.connect(hostname=host, username=username, pkey=k, allow_agent=False, look_for_keys=False)\n",
    "\n",
    "shell_cmds = [ \n",
    "    f'cd {git_path} && ls',\n",
    "    clean_git_repo,\n",
    "    f'cd {git_path} && ls',    \n",
    "    conda_generate_docker_cmd,\n",
    "    git_commit_cmd,\n",
    "    git_push_cmd,\n",
    "    clean_git_repo,\n",
    "    f'cd {git_path} && ls'\n",
    "]\n",
    "\n",
    "for command in shell_cmds:\n",
    "    print('# '*10)\n",
    "    print(\"Command :\\t {}\".format(command))\n",
    "    stdin , stdout, stderr = c.exec_command(command)\n",
    "    # print('Returncode:',res.returncode)\n",
    "    print('Std Out:\\t',stdout.read().decode())\n",
    "    print('Std Err:\\t',stderr.read().decode())"
   ]
  },
  {
   "cell_type": "code",
   "execution_count": null,
   "id": "6179a7fa-40f1-41cd-ba4e-76f459e26713",
   "metadata": {},
   "outputs": [],
   "source": []
  }
 ],
 "metadata": {
  "kernelspec": {
   "display_name": "Python 3 (ipykernel)",
   "language": "python",
   "name": "python3"
  },
  "language_info": {
   "codemirror_mode": {
    "name": "ipython",
    "version": 3
   },
   "file_extension": ".py",
   "mimetype": "text/x-python",
   "name": "python",
   "nbconvert_exporter": "python",
   "pygments_lexer": "ipython3",
   "version": "3.11.5"
  }
 },
 "nbformat": 4,
 "nbformat_minor": 5
}
